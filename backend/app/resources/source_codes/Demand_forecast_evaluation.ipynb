{
  "nbformat": 4,
  "nbformat_minor": 0,
  "metadata": {
    "colab": {
      "provenance": []
    },
    "kernelspec": {
      "name": "python3",
      "display_name": "Python 3"
    },
    "language_info": {
      "name": "python"
    }
  },
  "cells": [
    {
      "cell_type": "code",
      "execution_count": null,
      "metadata": {
        "colab": {
          "base_uri": "https://localhost:8080/"
        },
        "id": "TfKEYaVBH_VR",
        "outputId": "8b5df373-1841-47a7-8f82-0ba4df98f78d"
      },
      "outputs": [
        {
          "output_type": "stream",
          "name": "stdout",
          "text": [
            "Mounted at /content/drive\n"
          ]
        }
      ],
      "source": [
        "from google.colab import drive\n",
        "drive.mount('/content/drive')"
      ]
    },
    {
      "cell_type": "code",
      "source": [
        "import pandas as pd\n",
        "import matplotlib.pyplot as plt\n",
        "import seaborn as sns\n",
        "from sklearn.model_selection import train_test_split\n",
        "from sklearn.ensemble import RandomForestRegressor\n",
        "from sklearn.metrics import mean_absolute_error\n",
        "from sklearn.preprocessing import LabelEncoder\n",
        "from sklearn.ensemble import RandomForestClassifier\n",
        "from sklearn.metrics import accuracy_score\n",
        "from sklearn.metrics import classification_report\n",
        "from sklearn.metrics import confusion_matrix\n",
        "import numpy as np\n",
        "from sklearn.cluster import KMeans\n",
        "from sklearn.preprocessing import MinMaxScaler\n",
        "from sklearn.metrics import silhouette_score\n",
        "from sklearn.metrics import mean_squared_error\n",
        "from datetime import datetime\n",
        "import holidays\n",
        "import joblib"
      ],
      "metadata": {
        "id": "aADV42U0Iz-r"
      },
      "execution_count": null,
      "outputs": []
    },
    {
      "cell_type": "code",
      "source": [
        "main_path = '/content/drive/MyDrive/projects_data/FYP_20_Erandi'"
      ],
      "metadata": {
        "id": "WAIpkB9NJMtE"
      },
      "execution_count": null,
      "outputs": []
    },
    {
      "cell_type": "code",
      "source": [
        "df = pd.read_csv(f\"{main_path}/synthetic_beverage_sales_enhanced_climate.csv\")"
      ],
      "metadata": {
        "id": "CQkT5E6JIuFx"
      },
      "execution_count": null,
      "outputs": []
    },
    {
      "cell_type": "code",
      "source": [
        "df.head()"
      ],
      "metadata": {
        "colab": {
          "base_uri": "https://localhost:8080/",
          "height": 221
        },
        "id": "Jf6oH3QUK4N1",
        "outputId": "74cb1c1c-e7b1-4503-c118-b437486edf85"
      },
      "execution_count": null,
      "outputs": [
        {
          "output_type": "execute_result",
          "data": {
            "text/plain": [
              "     temp  dew_point  feels_like  temp_min  temp_max  pressure  humidity  \\\n",
              "0  274.84     274.13      273.16    274.18    275.89      1005        95   \n",
              "1  274.84     274.13      273.16    274.18    275.89      1005        95   \n",
              "2  274.84     274.13      273.16    274.18    275.89      1005        95   \n",
              "3  274.84     274.13      273.16    274.18    275.89      1005        95   \n",
              "4  274.84     274.13      273.16    274.18    275.89      1005        95   \n",
              "\n",
              "   wind_speed  wind_deg  clouds_all  weather_main  weather_description  \\\n",
              "0        1.61       184          75             0                    0   \n",
              "1        1.61       184          75             0                    0   \n",
              "2        1.61       184          75             0                    0   \n",
              "3        1.61       184          75             0                    0   \n",
              "4        1.61       184          75             0                    0   \n",
              "\n",
              "   Product  Unit_Price  Discount  Total_Price  Quantity  \n",
              "0        0        3.46       0.0        38.06      5610  \n",
              "1        1        1.59       0.0         4.77      7471  \n",
              "2        2        1.75       0.0         5.25      6432  \n",
              "3        3        3.12       0.0        21.84      6208  \n",
              "4        4        2.93       0.0        35.16      6493  "
            ],
            "text/html": [
              "\n",
              "  <div id=\"df-52b28b39-aeaf-4ae9-bb23-3ebd8b05a497\" class=\"colab-df-container\">\n",
              "    <div>\n",
              "<style scoped>\n",
              "    .dataframe tbody tr th:only-of-type {\n",
              "        vertical-align: middle;\n",
              "    }\n",
              "\n",
              "    .dataframe tbody tr th {\n",
              "        vertical-align: top;\n",
              "    }\n",
              "\n",
              "    .dataframe thead th {\n",
              "        text-align: right;\n",
              "    }\n",
              "</style>\n",
              "<table border=\"1\" class=\"dataframe\">\n",
              "  <thead>\n",
              "    <tr style=\"text-align: right;\">\n",
              "      <th></th>\n",
              "      <th>temp</th>\n",
              "      <th>dew_point</th>\n",
              "      <th>feels_like</th>\n",
              "      <th>temp_min</th>\n",
              "      <th>temp_max</th>\n",
              "      <th>pressure</th>\n",
              "      <th>humidity</th>\n",
              "      <th>wind_speed</th>\n",
              "      <th>wind_deg</th>\n",
              "      <th>clouds_all</th>\n",
              "      <th>weather_main</th>\n",
              "      <th>weather_description</th>\n",
              "      <th>Product</th>\n",
              "      <th>Unit_Price</th>\n",
              "      <th>Discount</th>\n",
              "      <th>Total_Price</th>\n",
              "      <th>Quantity</th>\n",
              "    </tr>\n",
              "  </thead>\n",
              "  <tbody>\n",
              "    <tr>\n",
              "      <th>0</th>\n",
              "      <td>274.84</td>\n",
              "      <td>274.13</td>\n",
              "      <td>273.16</td>\n",
              "      <td>274.18</td>\n",
              "      <td>275.89</td>\n",
              "      <td>1005</td>\n",
              "      <td>95</td>\n",
              "      <td>1.61</td>\n",
              "      <td>184</td>\n",
              "      <td>75</td>\n",
              "      <td>0</td>\n",
              "      <td>0</td>\n",
              "      <td>0</td>\n",
              "      <td>3.46</td>\n",
              "      <td>0.0</td>\n",
              "      <td>38.06</td>\n",
              "      <td>5610</td>\n",
              "    </tr>\n",
              "    <tr>\n",
              "      <th>1</th>\n",
              "      <td>274.84</td>\n",
              "      <td>274.13</td>\n",
              "      <td>273.16</td>\n",
              "      <td>274.18</td>\n",
              "      <td>275.89</td>\n",
              "      <td>1005</td>\n",
              "      <td>95</td>\n",
              "      <td>1.61</td>\n",
              "      <td>184</td>\n",
              "      <td>75</td>\n",
              "      <td>0</td>\n",
              "      <td>0</td>\n",
              "      <td>1</td>\n",
              "      <td>1.59</td>\n",
              "      <td>0.0</td>\n",
              "      <td>4.77</td>\n",
              "      <td>7471</td>\n",
              "    </tr>\n",
              "    <tr>\n",
              "      <th>2</th>\n",
              "      <td>274.84</td>\n",
              "      <td>274.13</td>\n",
              "      <td>273.16</td>\n",
              "      <td>274.18</td>\n",
              "      <td>275.89</td>\n",
              "      <td>1005</td>\n",
              "      <td>95</td>\n",
              "      <td>1.61</td>\n",
              "      <td>184</td>\n",
              "      <td>75</td>\n",
              "      <td>0</td>\n",
              "      <td>0</td>\n",
              "      <td>2</td>\n",
              "      <td>1.75</td>\n",
              "      <td>0.0</td>\n",
              "      <td>5.25</td>\n",
              "      <td>6432</td>\n",
              "    </tr>\n",
              "    <tr>\n",
              "      <th>3</th>\n",
              "      <td>274.84</td>\n",
              "      <td>274.13</td>\n",
              "      <td>273.16</td>\n",
              "      <td>274.18</td>\n",
              "      <td>275.89</td>\n",
              "      <td>1005</td>\n",
              "      <td>95</td>\n",
              "      <td>1.61</td>\n",
              "      <td>184</td>\n",
              "      <td>75</td>\n",
              "      <td>0</td>\n",
              "      <td>0</td>\n",
              "      <td>3</td>\n",
              "      <td>3.12</td>\n",
              "      <td>0.0</td>\n",
              "      <td>21.84</td>\n",
              "      <td>6208</td>\n",
              "    </tr>\n",
              "    <tr>\n",
              "      <th>4</th>\n",
              "      <td>274.84</td>\n",
              "      <td>274.13</td>\n",
              "      <td>273.16</td>\n",
              "      <td>274.18</td>\n",
              "      <td>275.89</td>\n",
              "      <td>1005</td>\n",
              "      <td>95</td>\n",
              "      <td>1.61</td>\n",
              "      <td>184</td>\n",
              "      <td>75</td>\n",
              "      <td>0</td>\n",
              "      <td>0</td>\n",
              "      <td>4</td>\n",
              "      <td>2.93</td>\n",
              "      <td>0.0</td>\n",
              "      <td>35.16</td>\n",
              "      <td>6493</td>\n",
              "    </tr>\n",
              "  </tbody>\n",
              "</table>\n",
              "</div>\n",
              "    <div class=\"colab-df-buttons\">\n",
              "\n",
              "  <div class=\"colab-df-container\">\n",
              "    <button class=\"colab-df-convert\" onclick=\"convertToInteractive('df-52b28b39-aeaf-4ae9-bb23-3ebd8b05a497')\"\n",
              "            title=\"Convert this dataframe to an interactive table.\"\n",
              "            style=\"display:none;\">\n",
              "\n",
              "  <svg xmlns=\"http://www.w3.org/2000/svg\" height=\"24px\" viewBox=\"0 -960 960 960\">\n",
              "    <path d=\"M120-120v-720h720v720H120Zm60-500h600v-160H180v160Zm220 220h160v-160H400v160Zm0 220h160v-160H400v160ZM180-400h160v-160H180v160Zm440 0h160v-160H620v160ZM180-180h160v-160H180v160Zm440 0h160v-160H620v160Z\"/>\n",
              "  </svg>\n",
              "    </button>\n",
              "\n",
              "  <style>\n",
              "    .colab-df-container {\n",
              "      display:flex;\n",
              "      gap: 12px;\n",
              "    }\n",
              "\n",
              "    .colab-df-convert {\n",
              "      background-color: #E8F0FE;\n",
              "      border: none;\n",
              "      border-radius: 50%;\n",
              "      cursor: pointer;\n",
              "      display: none;\n",
              "      fill: #1967D2;\n",
              "      height: 32px;\n",
              "      padding: 0 0 0 0;\n",
              "      width: 32px;\n",
              "    }\n",
              "\n",
              "    .colab-df-convert:hover {\n",
              "      background-color: #E2EBFA;\n",
              "      box-shadow: 0px 1px 2px rgba(60, 64, 67, 0.3), 0px 1px 3px 1px rgba(60, 64, 67, 0.15);\n",
              "      fill: #174EA6;\n",
              "    }\n",
              "\n",
              "    .colab-df-buttons div {\n",
              "      margin-bottom: 4px;\n",
              "    }\n",
              "\n",
              "    [theme=dark] .colab-df-convert {\n",
              "      background-color: #3B4455;\n",
              "      fill: #D2E3FC;\n",
              "    }\n",
              "\n",
              "    [theme=dark] .colab-df-convert:hover {\n",
              "      background-color: #434B5C;\n",
              "      box-shadow: 0px 1px 3px 1px rgba(0, 0, 0, 0.15);\n",
              "      filter: drop-shadow(0px 1px 2px rgba(0, 0, 0, 0.3));\n",
              "      fill: #FFFFFF;\n",
              "    }\n",
              "  </style>\n",
              "\n",
              "    <script>\n",
              "      const buttonEl =\n",
              "        document.querySelector('#df-52b28b39-aeaf-4ae9-bb23-3ebd8b05a497 button.colab-df-convert');\n",
              "      buttonEl.style.display =\n",
              "        google.colab.kernel.accessAllowed ? 'block' : 'none';\n",
              "\n",
              "      async function convertToInteractive(key) {\n",
              "        const element = document.querySelector('#df-52b28b39-aeaf-4ae9-bb23-3ebd8b05a497');\n",
              "        const dataTable =\n",
              "          await google.colab.kernel.invokeFunction('convertToInteractive',\n",
              "                                                    [key], {});\n",
              "        if (!dataTable) return;\n",
              "\n",
              "        const docLinkHtml = 'Like what you see? Visit the ' +\n",
              "          '<a target=\"_blank\" href=https://colab.research.google.com/notebooks/data_table.ipynb>data table notebook</a>'\n",
              "          + ' to learn more about interactive tables.';\n",
              "        element.innerHTML = '';\n",
              "        dataTable['output_type'] = 'display_data';\n",
              "        await google.colab.output.renderOutput(dataTable, element);\n",
              "        const docLink = document.createElement('div');\n",
              "        docLink.innerHTML = docLinkHtml;\n",
              "        element.appendChild(docLink);\n",
              "      }\n",
              "    </script>\n",
              "  </div>\n",
              "\n",
              "\n",
              "    <div id=\"df-062f1c14-0266-4f6c-8731-7402398cbf62\">\n",
              "      <button class=\"colab-df-quickchart\" onclick=\"quickchart('df-062f1c14-0266-4f6c-8731-7402398cbf62')\"\n",
              "                title=\"Suggest charts\"\n",
              "                style=\"display:none;\">\n",
              "\n",
              "<svg xmlns=\"http://www.w3.org/2000/svg\" height=\"24px\"viewBox=\"0 0 24 24\"\n",
              "     width=\"24px\">\n",
              "    <g>\n",
              "        <path d=\"M19 3H5c-1.1 0-2 .9-2 2v14c0 1.1.9 2 2 2h14c1.1 0 2-.9 2-2V5c0-1.1-.9-2-2-2zM9 17H7v-7h2v7zm4 0h-2V7h2v10zm4 0h-2v-4h2v4z\"/>\n",
              "    </g>\n",
              "</svg>\n",
              "      </button>\n",
              "\n",
              "<style>\n",
              "  .colab-df-quickchart {\n",
              "      --bg-color: #E8F0FE;\n",
              "      --fill-color: #1967D2;\n",
              "      --hover-bg-color: #E2EBFA;\n",
              "      --hover-fill-color: #174EA6;\n",
              "      --disabled-fill-color: #AAA;\n",
              "      --disabled-bg-color: #DDD;\n",
              "  }\n",
              "\n",
              "  [theme=dark] .colab-df-quickchart {\n",
              "      --bg-color: #3B4455;\n",
              "      --fill-color: #D2E3FC;\n",
              "      --hover-bg-color: #434B5C;\n",
              "      --hover-fill-color: #FFFFFF;\n",
              "      --disabled-bg-color: #3B4455;\n",
              "      --disabled-fill-color: #666;\n",
              "  }\n",
              "\n",
              "  .colab-df-quickchart {\n",
              "    background-color: var(--bg-color);\n",
              "    border: none;\n",
              "    border-radius: 50%;\n",
              "    cursor: pointer;\n",
              "    display: none;\n",
              "    fill: var(--fill-color);\n",
              "    height: 32px;\n",
              "    padding: 0;\n",
              "    width: 32px;\n",
              "  }\n",
              "\n",
              "  .colab-df-quickchart:hover {\n",
              "    background-color: var(--hover-bg-color);\n",
              "    box-shadow: 0 1px 2px rgba(60, 64, 67, 0.3), 0 1px 3px 1px rgba(60, 64, 67, 0.15);\n",
              "    fill: var(--button-hover-fill-color);\n",
              "  }\n",
              "\n",
              "  .colab-df-quickchart-complete:disabled,\n",
              "  .colab-df-quickchart-complete:disabled:hover {\n",
              "    background-color: var(--disabled-bg-color);\n",
              "    fill: var(--disabled-fill-color);\n",
              "    box-shadow: none;\n",
              "  }\n",
              "\n",
              "  .colab-df-spinner {\n",
              "    border: 2px solid var(--fill-color);\n",
              "    border-color: transparent;\n",
              "    border-bottom-color: var(--fill-color);\n",
              "    animation:\n",
              "      spin 1s steps(1) infinite;\n",
              "  }\n",
              "\n",
              "  @keyframes spin {\n",
              "    0% {\n",
              "      border-color: transparent;\n",
              "      border-bottom-color: var(--fill-color);\n",
              "      border-left-color: var(--fill-color);\n",
              "    }\n",
              "    20% {\n",
              "      border-color: transparent;\n",
              "      border-left-color: var(--fill-color);\n",
              "      border-top-color: var(--fill-color);\n",
              "    }\n",
              "    30% {\n",
              "      border-color: transparent;\n",
              "      border-left-color: var(--fill-color);\n",
              "      border-top-color: var(--fill-color);\n",
              "      border-right-color: var(--fill-color);\n",
              "    }\n",
              "    40% {\n",
              "      border-color: transparent;\n",
              "      border-right-color: var(--fill-color);\n",
              "      border-top-color: var(--fill-color);\n",
              "    }\n",
              "    60% {\n",
              "      border-color: transparent;\n",
              "      border-right-color: var(--fill-color);\n",
              "    }\n",
              "    80% {\n",
              "      border-color: transparent;\n",
              "      border-right-color: var(--fill-color);\n",
              "      border-bottom-color: var(--fill-color);\n",
              "    }\n",
              "    90% {\n",
              "      border-color: transparent;\n",
              "      border-bottom-color: var(--fill-color);\n",
              "    }\n",
              "  }\n",
              "</style>\n",
              "\n",
              "      <script>\n",
              "        async function quickchart(key) {\n",
              "          const quickchartButtonEl =\n",
              "            document.querySelector('#' + key + ' button');\n",
              "          quickchartButtonEl.disabled = true;  // To prevent multiple clicks.\n",
              "          quickchartButtonEl.classList.add('colab-df-spinner');\n",
              "          try {\n",
              "            const charts = await google.colab.kernel.invokeFunction(\n",
              "                'suggestCharts', [key], {});\n",
              "          } catch (error) {\n",
              "            console.error('Error during call to suggestCharts:', error);\n",
              "          }\n",
              "          quickchartButtonEl.classList.remove('colab-df-spinner');\n",
              "          quickchartButtonEl.classList.add('colab-df-quickchart-complete');\n",
              "        }\n",
              "        (() => {\n",
              "          let quickchartButtonEl =\n",
              "            document.querySelector('#df-062f1c14-0266-4f6c-8731-7402398cbf62 button');\n",
              "          quickchartButtonEl.style.display =\n",
              "            google.colab.kernel.accessAllowed ? 'block' : 'none';\n",
              "        })();\n",
              "      </script>\n",
              "    </div>\n",
              "\n",
              "    </div>\n",
              "  </div>\n"
            ],
            "application/vnd.google.colaboratory.intrinsic+json": {
              "type": "dataframe",
              "variable_name": "df",
              "summary": "{\n  \"name\": \"df\",\n  \"rows\": 7658,\n  \"fields\": [\n    {\n      \"column\": \"temp\",\n      \"properties\": {\n        \"dtype\": \"number\",\n        \"std\": 6.433861531705734,\n        \"min\": 258.77,\n        \"max\": 297.77,\n        \"num_unique_values\": 862,\n        \"samples\": [\n          285.48,\n          279.22,\n          276.07\n        ],\n        \"semantic_type\": \"\",\n        \"description\": \"\"\n      }\n    },\n    {\n      \"column\": \"dew_point\",\n      \"properties\": {\n        \"dtype\": \"number\",\n        \"std\": 6.298228380668034,\n        \"min\": 254.0,\n        \"max\": 294.16,\n        \"num_unique_values\": 877,\n        \"samples\": [\n          275.02,\n          284.91,\n          285.5\n        ],\n        \"semantic_type\": \"\",\n        \"description\": \"\"\n      }\n    },\n    {\n      \"column\": \"feels_like\",\n      \"properties\": {\n        \"dtype\": \"number\",\n        \"std\": 7.634187977941659,\n        \"min\": 254.24,\n        \"max\": 297.51,\n        \"num_unique_values\": 899,\n        \"samples\": [\n          285.9,\n          284.29,\n          287.16\n        ],\n        \"semantic_type\": \"\",\n        \"description\": \"\"\n      }\n    },\n    {\n      \"column\": \"temp_min\",\n      \"properties\": {\n        \"dtype\": \"number\",\n        \"std\": 6.481359606446221,\n        \"min\": 255.86,\n        \"max\": 295.93,\n        \"num_unique_values\": 402,\n        \"samples\": [\n          289.0,\n          283.83,\n          261.86\n        ],\n        \"semantic_type\": \"\",\n        \"description\": \"\"\n      }\n    },\n    {\n      \"column\": \"temp_max\",\n      \"properties\": {\n        \"dtype\": \"number\",\n        \"std\": 6.44304026486905,\n        \"min\": 259.12,\n        \"max\": 298.86,\n        \"num_unique_values\": 396,\n        \"samples\": [\n          274.39,\n          288.62,\n          273.02\n        ],\n        \"semantic_type\": \"\",\n        \"description\": \"\"\n      }\n    },\n    {\n      \"column\": \"pressure\",\n      \"properties\": {\n        \"dtype\": \"number\",\n        \"std\": 9,\n        \"min\": 979,\n        \"max\": 1045,\n        \"num_unique_values\": 60,\n        \"samples\": [\n          1005,\n          1011,\n          1031\n        ],\n        \"semantic_type\": \"\",\n        \"description\": \"\"\n      }\n    },\n    {\n      \"column\": \"humidity\",\n      \"properties\": {\n        \"dtype\": \"number\",\n        \"std\": 11,\n        \"min\": 31,\n        \"max\": 100,\n        \"num_unique_values\": 56,\n        \"samples\": [\n          95,\n          80,\n          68\n        ],\n        \"semantic_type\": \"\",\n        \"description\": \"\"\n      }\n    },\n    {\n      \"column\": \"wind_speed\",\n      \"properties\": {\n        \"dtype\": \"number\",\n        \"std\": 1.634833776010299,\n        \"min\": 0.12,\n        \"max\": 11.09,\n        \"num_unique_values\": 463,\n        \"samples\": [\n          1.34,\n          3.09,\n          2.1\n        ],\n        \"semantic_type\": \"\",\n        \"description\": \"\"\n      }\n    },\n    {\n      \"column\": \"wind_deg\",\n      \"properties\": {\n        \"dtype\": \"number\",\n        \"std\": 89,\n        \"min\": 0,\n        \"max\": 359,\n        \"num_unique_values\": 324,\n        \"samples\": [\n          250,\n          208,\n          131\n        ],\n        \"semantic_type\": \"\",\n        \"description\": \"\"\n      }\n    },\n    {\n      \"column\": \"clouds_all\",\n      \"properties\": {\n        \"dtype\": \"number\",\n        \"std\": 36,\n        \"min\": 0,\n        \"max\": 100,\n        \"num_unique_values\": 101,\n        \"samples\": [\n          49,\n          92,\n          15\n        ],\n        \"semantic_type\": \"\",\n        \"description\": \"\"\n      }\n    },\n    {\n      \"column\": \"weather_main\",\n      \"properties\": {\n        \"dtype\": \"number\",\n        \"std\": 0,\n        \"min\": 0,\n        \"max\": 3,\n        \"num_unique_values\": 4,\n        \"samples\": [\n          1,\n          3,\n          0\n        ],\n        \"semantic_type\": \"\",\n        \"description\": \"\"\n      }\n    },\n    {\n      \"column\": \"weather_description\",\n      \"properties\": {\n        \"dtype\": \"number\",\n        \"std\": 2,\n        \"min\": 0,\n        \"max\": 8,\n        \"num_unique_values\": 9,\n        \"samples\": [\n          7,\n          1,\n          5\n        ],\n        \"semantic_type\": \"\",\n        \"description\": \"\"\n      }\n    },\n    {\n      \"column\": \"Product\",\n      \"properties\": {\n        \"dtype\": \"number\",\n        \"std\": 2,\n        \"min\": 0,\n        \"max\": 6,\n        \"num_unique_values\": 7,\n        \"samples\": [\n          0,\n          1,\n          5\n        ],\n        \"semantic_type\": \"\",\n        \"description\": \"\"\n      }\n    },\n    {\n      \"column\": \"Unit_Price\",\n      \"properties\": {\n        \"dtype\": \"number\",\n        \"std\": 0.7308505607081841,\n        \"min\": 1.08,\n        \"max\": 4.94,\n        \"num_unique_values\": 344,\n        \"samples\": [\n          1.73,\n          3.25,\n          4.06\n        ],\n        \"semantic_type\": \"\",\n        \"description\": \"\"\n      }\n    },\n    {\n      \"column\": \"Discount\",\n      \"properties\": {\n        \"dtype\": \"number\",\n        \"std\": 0.04396880496302225,\n        \"min\": 0.0,\n        \"max\": 0.15,\n        \"num_unique_values\": 4,\n        \"samples\": [\n          0.05,\n          0.15,\n          0.0\n        ],\n        \"semantic_type\": \"\",\n        \"description\": \"\"\n      }\n    },\n    {\n      \"column\": \"Total_Price\",\n      \"properties\": {\n        \"dtype\": \"number\",\n        \"std\": 74.42524061562041,\n        \"min\": 1.24,\n        \"max\": 416.1,\n        \"num_unique_values\": 2663,\n        \"samples\": [\n          142.51,\n          47.22,\n          166.78\n        ],\n        \"semantic_type\": \"\",\n        \"description\": \"\"\n      }\n    },\n    {\n      \"column\": \"Quantity\",\n      \"properties\": {\n        \"dtype\": \"number\",\n        \"std\": 623,\n        \"min\": 4639,\n        \"max\": 9209,\n        \"num_unique_values\": 2468,\n        \"samples\": [\n          7004,\n          8446,\n          5522\n        ],\n        \"semantic_type\": \"\",\n        \"description\": \"\"\n      }\n    }\n  ]\n}"
            }
          },
          "metadata": {},
          "execution_count": 18
        }
      ]
    },
    {
      "cell_type": "code",
      "source": [
        "target_column_name = 'Quantity'\n",
        "if target_column_name in df.columns:\n",
        "    y = df[target_column_name]\n",
        "    df = df.drop(columns=[target_column_name])\n",
        "    print(y)\n",
        "    X = pd.get_dummies(df)\n",
        "    print(X)\n",
        "    X_train, X_test, y_train, y_test = train_test_split(X, y, test_size=0.2, random_state=42)\n",
        "    model = RandomForestRegressor(n_estimators=100, random_state=42)  # You can adjust hyperparameters as needed\n",
        "    model.fit(X_train, y_train)"
      ],
      "metadata": {
        "id": "BA0Vsk1YLG2I",
        "colab": {
          "base_uri": "https://localhost:8080/"
        },
        "outputId": "64799100-9a01-40ba-8325-bace02e90a8f"
      },
      "execution_count": null,
      "outputs": [
        {
          "output_type": "stream",
          "name": "stdout",
          "text": [
            "0       5610\n",
            "1       7471\n",
            "2       6432\n",
            "3       6208\n",
            "4       6493\n",
            "        ... \n",
            "7653    6421\n",
            "7654    6144\n",
            "7655    6030\n",
            "7656    7743\n",
            "7657    6678\n",
            "Name: Quantity, Length: 7658, dtype: int64\n",
            "        temp  dew_point  feels_like  temp_min  temp_max  pressure  humidity  \\\n",
            "0     274.84     274.13      273.16    274.18    275.89      1005        95   \n",
            "1     274.84     274.13      273.16    274.18    275.89      1005        95   \n",
            "2     274.84     274.13      273.16    274.18    275.89      1005        95   \n",
            "3     274.84     274.13      273.16    274.18    275.89      1005        95   \n",
            "4     274.84     274.13      273.16    274.18    275.89      1005        95   \n",
            "...      ...        ...         ...       ...       ...       ...       ...   \n",
            "7653  281.11     278.40      277.60    280.86    282.16      1010        83   \n",
            "7654  281.11     278.40      277.60    280.86    282.16      1010        83   \n",
            "7655  281.11     278.40      277.60    280.86    282.16      1010        83   \n",
            "7656  281.11     278.40      277.60    280.86    282.16      1010        83   \n",
            "7657  281.11     278.40      277.60    280.86    282.16      1010        83   \n",
            "\n",
            "      wind_speed  wind_deg  clouds_all  weather_main  weather_description  \\\n",
            "0           1.61       184          75             0                    0   \n",
            "1           1.61       184          75             0                    0   \n",
            "2           1.61       184          75             0                    0   \n",
            "3           1.61       184          75             0                    0   \n",
            "4           1.61       184          75             0                    0   \n",
            "...          ...       ...         ...           ...                  ...   \n",
            "7653        6.60       245          87             1                    2   \n",
            "7654        6.60       245          87             1                    2   \n",
            "7655        6.60       245          87             1                    2   \n",
            "7656        6.60       245          87             1                    2   \n",
            "7657        6.60       245          87             1                    2   \n",
            "\n",
            "      Product  Unit_Price  Discount  Total_Price  \n",
            "0           0        3.46       0.0        38.06  \n",
            "1           1        1.59       0.0         4.77  \n",
            "2           2        1.75       0.0         5.25  \n",
            "3           3        3.12       0.0        21.84  \n",
            "4           4        2.93       0.0        35.16  \n",
            "...       ...         ...       ...          ...  \n",
            "7653        2        1.86       0.0        13.02  \n",
            "7654        3        3.31       0.0         3.31  \n",
            "7655        4        3.11       0.0         6.22  \n",
            "7656        5        2.45       0.0        34.30  \n",
            "7657        6        3.43       0.0        10.29  \n",
            "\n",
            "[7658 rows x 16 columns]\n"
          ]
        }
      ]
    },
    {
      "cell_type": "code",
      "source": [
        "y_pred = model.predict(X_test)\n",
        "rmse = np.sqrt(mean_squared_error(y_test, y_pred))\n",
        "print(f\"RMSE: {rmse:.2f}\")"
      ],
      "metadata": {
        "colab": {
          "base_uri": "https://localhost:8080/"
        },
        "id": "DXVc6_zrMGjD",
        "outputId": "6492c02a-4698-4e0c-95ca-cdadac1fb780"
      },
      "execution_count": null,
      "outputs": [
        {
          "output_type": "stream",
          "name": "stdout",
          "text": [
            "RMSE: 631.49\n"
          ]
        }
      ]
    },
    {
      "cell_type": "code",
      "source": [
        "mean_actual = np.mean(y_test)\n",
        "rmse_pct_mean = (rmse / mean_actual) * 100\n",
        "print(f\"RMSE: {rmse:.2f}\")\n",
        "print(f\"Mean of actual values: {mean_actual:.2f}\")\n",
        "print(f\"RMSE as % of mean: {rmse_pct_mean:.2f}%\")"
      ],
      "metadata": {
        "id": "O5_hd9erMF-2",
        "colab": {
          "base_uri": "https://localhost:8080/"
        },
        "outputId": "d919eb47-1541-4d02-8bb5-2551ed5f07d5"
      },
      "execution_count": null,
      "outputs": [
        {
          "output_type": "stream",
          "name": "stdout",
          "text": [
            "RMSE: 631.49\n",
            "Mean of actual values: 6793.37\n",
            "RMSE as % of mean: 9.30%\n"
          ]
        }
      ]
    },
    {
      "cell_type": "code",
      "source": [
        "joblib.dump(model, f\"{main_path}/demand_prediction_model.pkl\")"
      ],
      "metadata": {
        "colab": {
          "base_uri": "https://localhost:8080/"
        },
        "id": "pZvyORnMfLVZ",
        "outputId": "0bf743e8-308e-4286-8b9d-c49764942963"
      },
      "execution_count": null,
      "outputs": [
        {
          "output_type": "execute_result",
          "data": {
            "text/plain": [
              "['/content/drive/MyDrive/projects_data/FYP_20_Erandi/demand_prediction_model.pkl']"
            ]
          },
          "metadata": {},
          "execution_count": 10
        }
      ]
    },
    {
      "cell_type": "code",
      "source": [
        "import numpy as np\n",
        "from sklearn.metrics import mean_squared_error\n",
        "from sklearn.model_selection import train_test_split\n",
        "from sklearn.linear_model import LinearRegression, Ridge, Lasso\n",
        "from sklearn.tree import DecisionTreeRegressor\n",
        "from sklearn.ensemble import RandomForestRegressor, GradientBoostingRegressor\n",
        "from sklearn.svm import SVR\n",
        "from sklearn.neighbors import KNeighborsRegressor\n",
        "from sklearn.datasets import make_regression"
      ],
      "metadata": {
        "id": "cQ7nXjUzcY6v"
      },
      "execution_count": null,
      "outputs": []
    },
    {
      "cell_type": "code",
      "source": [
        "models = {\n",
        "    \"Linear Regression\": LinearRegression(),\n",
        "    \"Ridge Regression\": Ridge(alpha=1.0),\n",
        "    \"Lasso Regression\": Lasso(alpha=0.1),\n",
        "    \"Decision Tree\": DecisionTreeRegressor(random_state=42),\n",
        "    \"Random Forest\": RandomForestRegressor(n_estimators=100, random_state=42),\n",
        "    \"Gradient Boosting\": GradientBoostingRegressor(random_state=42),\n",
        "    \"SVR\": SVR(),\n",
        "    \"KNN\": KNeighborsRegressor(n_neighbors=5),\n",
        "}\n",
        "results = []\n",
        "for name, model in models.items():\n",
        "    model.fit(X_train, y_train)\n",
        "    preds = model.predict(X_test)\n",
        "    rmse = np.sqrt(mean_squared_error(y_test, preds))\n",
        "    mean_actual = np.mean(y_test)\n",
        "    rmse_pct_mean = (rmse / mean_actual) * 100\n",
        "\n",
        "    results.append((name, rmse, rmse_pct_mean))\n",
        "\n",
        "# Print results\n",
        "print(f\"{'Model':<20} {'RMSE':<10} {'RMSE % of Mean':<15}\")\n",
        "print(\"-\" * 45)\n",
        "for name, rmse, pct in results:\n",
        "    print(f\"{name:<20} {rmse:<10.2f} {pct:<15.2f}\")\n"
      ],
      "metadata": {
        "colab": {
          "base_uri": "https://localhost:8080/"
        },
        "id": "7m6VtKz9GY9s",
        "outputId": "90d3d991-c122-42e1-938c-bfb73e27beff"
      },
      "execution_count": null,
      "outputs": [
        {
          "output_type": "stream",
          "name": "stderr",
          "text": [
            "/usr/local/lib/python3.11/dist-packages/sklearn/linear_model/_coordinate_descent.py:695: ConvergenceWarning: Objective did not converge. You might want to increase the number of iterations, check the scale of the features or consider increasing regularisation. Duality gap: 6.029e+08, tolerance: 2.368e+05\n",
            "  model = cd_fast.enet_coordinate_descent(\n"
          ]
        },
        {
          "output_type": "stream",
          "name": "stdout",
          "text": [
            "Model                RMSE       RMSE % of Mean \n",
            "---------------------------------------------\n",
            "Linear Regression    631.53     9.30           \n",
            "Ridge Regression     631.51     9.30           \n",
            "Lasso Regression     631.50     9.30           \n",
            "Decision Tree        900.21     13.25          \n",
            "Random Forest        631.49     9.30           \n",
            "Gradient Boosting    614.91     9.05           \n",
            "SVR                  632.71     9.31           \n",
            "KNN                  687.16     10.12          \n"
          ]
        }
      ]
    },
    {
      "cell_type": "code",
      "source": [],
      "metadata": {
        "id": "z477MSflCZ_v"
      },
      "execution_count": null,
      "outputs": []
    },
    {
      "cell_type": "code",
      "source": [
        "df = pd.read_csv(f\"{main_path}/synthetic_beverage_sales_enhanced_climate_cpi.csv\")"
      ],
      "metadata": {
        "id": "5Q-5LbJCCaHI"
      },
      "execution_count": null,
      "outputs": []
    },
    {
      "cell_type": "code",
      "source": [
        "target_column_name = 'Quantity'\n",
        "if target_column_name in df.columns:\n",
        "    y = df[target_column_name]\n",
        "    df = df.drop(columns=[target_column_name])\n",
        "    print(y)\n",
        "    X = pd.get_dummies(df)\n",
        "    print(X)\n",
        "    X_train, X_test, y_train, y_test = train_test_split(X, y, test_size=0.2, random_state=42)\n",
        "    model = RandomForestRegressor(n_estimators=100, random_state=42)  # You can adjust hyperparameters as needed\n",
        "    model.fit(X_train, y_train)"
      ],
      "metadata": {
        "colab": {
          "base_uri": "https://localhost:8080/"
        },
        "id": "5SWzCsjbbyrk",
        "outputId": "a63e78a6-76e0-482b-c502-5227204eea8a"
      },
      "execution_count": null,
      "outputs": [
        {
          "output_type": "stream",
          "name": "stdout",
          "text": [
            "0       5610\n",
            "1       7471\n",
            "2       6432\n",
            "3       6208\n",
            "4       6493\n",
            "        ... \n",
            "7653    6421\n",
            "7654    6144\n",
            "7655    6030\n",
            "7656    7743\n",
            "7657    6678\n",
            "Name: Quantity, Length: 7658, dtype: int64\n",
            "        temp  dew_point  feels_like  temp_min  temp_max  pressure  humidity  \\\n",
            "0     274.84     274.13      273.16    274.18    275.89      1005        95   \n",
            "1     274.84     274.13      273.16    274.18    275.89      1005        95   \n",
            "2     274.84     274.13      273.16    274.18    275.89      1005        95   \n",
            "3     274.84     274.13      273.16    274.18    275.89      1005        95   \n",
            "4     274.84     274.13      273.16    274.18    275.89      1005        95   \n",
            "...      ...        ...         ...       ...       ...       ...       ...   \n",
            "7653  281.11     278.40      277.60    280.86    282.16      1010        83   \n",
            "7654  281.11     278.40      277.60    280.86    282.16      1010        83   \n",
            "7655  281.11     278.40      277.60    280.86    282.16      1010        83   \n",
            "7656  281.11     278.40      277.60    280.86    282.16      1010        83   \n",
            "7657  281.11     278.40      277.60    280.86    282.16      1010        83   \n",
            "\n",
            "      wind_speed  wind_deg  clouds_all  weather_main  weather_description  \\\n",
            "0           1.61       184          75             0                    0   \n",
            "1           1.61       184          75             0                    0   \n",
            "2           1.61       184          75             0                    0   \n",
            "3           1.61       184          75             0                    0   \n",
            "4           1.61       184          75             0                    0   \n",
            "...          ...       ...         ...           ...                  ...   \n",
            "7653        6.60       245          87             1                    2   \n",
            "7654        6.60       245          87             1                    2   \n",
            "7655        6.60       245          87             1                    2   \n",
            "7656        6.60       245          87             1                    2   \n",
            "7657        6.60       245          87             1                    2   \n",
            "\n",
            "      Product  Unit_Price  Discount  Total_Price    cpi  \n",
            "0           0        3.46       0.0        38.06  101.0  \n",
            "1           1        1.59       0.0         4.77  101.0  \n",
            "2           2        1.75       0.0         5.25  101.0  \n",
            "3           3        3.12       0.0        21.84  101.0  \n",
            "4           4        2.93       0.0        35.16  101.0  \n",
            "...       ...         ...       ...          ...    ...  \n",
            "7653        2        1.86       0.0        13.02  117.4  \n",
            "7654        3        3.31       0.0         3.31  117.4  \n",
            "7655        4        3.11       0.0         6.22  117.4  \n",
            "7656        5        2.45       0.0        34.30  117.4  \n",
            "7657        6        3.43       0.0        10.29  117.4  \n",
            "\n",
            "[7658 rows x 17 columns]\n"
          ]
        }
      ]
    },
    {
      "cell_type": "code",
      "source": [
        "y_pred = model.predict(X_test)\n",
        "rmse = np.sqrt(mean_squared_error(y_test, y_pred))\n",
        "print(f\"RMSE: {rmse:.2f}\")"
      ],
      "metadata": {
        "colab": {
          "base_uri": "https://localhost:8080/"
        },
        "id": "2RqtuK4JWgeo",
        "outputId": "ac0c439d-aee4-4748-816e-35f9b2dab1c5"
      },
      "execution_count": null,
      "outputs": [
        {
          "output_type": "stream",
          "name": "stdout",
          "text": [
            "RMSE: 633.79\n"
          ]
        }
      ]
    },
    {
      "cell_type": "code",
      "source": [
        "mean_actual = np.mean(y_test)\n",
        "rmse_pct_mean = (rmse / mean_actual) * 100\n",
        "print(f\"RMSE: {rmse:.2f}\")\n",
        "print(f\"Mean of actual values: {mean_actual:.2f}\")\n",
        "print(f\"RMSE as % of mean: {rmse_pct_mean:.2f}%\")"
      ],
      "metadata": {
        "colab": {
          "base_uri": "https://localhost:8080/"
        },
        "id": "-wGpqpfpWjmM",
        "outputId": "b3c60a5a-3cd7-4c7f-f4bb-e2c00b97830e"
      },
      "execution_count": null,
      "outputs": [
        {
          "output_type": "stream",
          "name": "stdout",
          "text": [
            "RMSE: 633.79\n",
            "Mean of actual values: 6793.37\n",
            "RMSE as % of mean: 9.33%\n"
          ]
        }
      ]
    },
    {
      "cell_type": "code",
      "source": [
        "joblib.dump(model, f\"{main_path}/demand_prediction_model_cpi.pkl\")"
      ],
      "metadata": {
        "colab": {
          "base_uri": "https://localhost:8080/"
        },
        "id": "51FCXdIjWc24",
        "outputId": "84386bf4-13a2-4be9-943e-0e707ea03b1f"
      },
      "execution_count": null,
      "outputs": [
        {
          "output_type": "execute_result",
          "data": {
            "text/plain": [
              "['/content/drive/MyDrive/projects_data/FYP_20_Erandi/demand_prediction_model_cpi.pkl']"
            ]
          },
          "metadata": {},
          "execution_count": 9
        }
      ]
    },
    {
      "cell_type": "code",
      "source": [
        "results = []\n",
        "for name, model in models.items():\n",
        "    model.fit(X_train, y_train)\n",
        "    preds = model.predict(X_test)\n",
        "    rmse = np.sqrt(mean_squared_error(y_test, preds))\n",
        "    mean_actual = np.mean(y_test)\n",
        "    rmse_pct_mean = (rmse / mean_actual) * 100\n",
        "\n",
        "    results.append((name, rmse, rmse_pct_mean))\n",
        "\n",
        "# Print results\n",
        "print(f\"{'Model':<20} {'RMSE':<10} {'RMSE % of Mean':<15}\")\n",
        "print(\"-\" * 45)\n",
        "for name, rmse, pct in results:\n",
        "    print(f\"{name:<20} {rmse:<10.2f} {pct:<15.2f}\")"
      ],
      "metadata": {
        "colab": {
          "base_uri": "https://localhost:8080/"
        },
        "id": "3JGnc7Mfb6hd",
        "outputId": "68ec57b7-3e6b-460a-d012-2ea958b013bc"
      },
      "execution_count": null,
      "outputs": [
        {
          "output_type": "stream",
          "name": "stderr",
          "text": [
            "/usr/local/lib/python3.11/dist-packages/sklearn/linear_model/_coordinate_descent.py:695: ConvergenceWarning: Objective did not converge. You might want to increase the number of iterations, check the scale of the features or consider increasing regularisation. Duality gap: 6.827e+08, tolerance: 2.368e+05\n",
            "  model = cd_fast.enet_coordinate_descent(\n"
          ]
        },
        {
          "output_type": "stream",
          "name": "stdout",
          "text": [
            "Model                RMSE       RMSE % of Mean \n",
            "---------------------------------------------\n",
            "Linear Regression    631.20     9.29           \n",
            "Ridge Regression     631.18     9.29           \n",
            "Lasso Regression     631.19     9.29           \n",
            "Decision Tree        881.77     12.98          \n",
            "Random Forest        633.79     9.33           \n",
            "Gradient Boosting    613.90     9.04           \n",
            "SVR                  632.71     9.31           \n",
            "KNN                  687.34     10.12          \n"
          ]
        }
      ]
    }
  ]
}